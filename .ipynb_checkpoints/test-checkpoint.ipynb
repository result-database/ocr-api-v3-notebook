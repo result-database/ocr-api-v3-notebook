{
 "cells": [
  {
   "cell_type": "code",
   "execution_count": 1,
   "id": "5913b20c-195d-41c4-b3ad-09bf3c417d4c",
   "metadata": {},
   "outputs": [
    {
     "name": "stdout",
     "output_type": "stream",
     "text": [
      "Hello!!!\n"
     ]
    }
   ],
   "source": [
    "print(\"Hello!!!\")"
   ]
  },
  {
   "cell_type": "code",
   "execution_count": 3,
   "id": "a5b49278-940b-4b2b-9e41-6a739822c35b",
   "metadata": {},
   "outputs": [],
   "source": [
    "import pyocr\n",
    "from PIL import Image, ImageEnhance\n",
    "import os\n",
    "\n",
    "tools = pyocr.get_available_tools()\n",
    "tool = tools[0]"
   ]
  },
  {
   "cell_type": "code",
   "execution_count": 4,
   "id": "5b1f788f-55f9-4f76-8f2a-2971bffa3d0e",
   "metadata": {},
   "outputs": [
    {
     "name": "stdout",
     "output_type": "stream",
     "text": [
      "〔雨二モマケズ〕\n",
      "宮澤質治\n",
      "雨ニモマクズ\n",
      "風ニモマクズ\n",
      "雪一夏ノ暑サーモマクメ\n",
      "与夫ナカラダヲモチ\n",
      "感/けク\n",
      "決シテ隙ラズ\n",
      "イツモシヅカーワラッテヰル\n",
      "ーヨーなK四ト\n",
      "味喝トルシノ野莱ヲタベ\n",
      "アラコルコトヲ\n",
      "ジブンヲカンジョウー入レズー\n",
      "ヨクミキキシワカリ\n",
      "ソシテワスレズ\n"
     ]
    }
   ],
   "source": [
    "builder = pyocr.builders.TextBuilder(tesseract_layout=6)\n",
    "\n",
    "img = Image.open('text-jpn.jpeg')\n",
    "\n",
    "img_g = img.convert('L') #Gray変換\n",
    "enhancer= ImageEnhance.Contrast(img_g) #コントラストを上げる\n",
    "img_con = enhancer.enhance(2.0) #コントラストを上げる\n",
    "\n",
    "txt_pyocr = tool.image_to_string(img_con , lang='jpn', builder=builder)\n",
    "\n",
    "txt_pyocr = txt_pyocr.replace(' ', '')\n",
    "\n",
    "print(txt_pyocr)"
   ]
  }
 ],
 "metadata": {
  "kernelspec": {
   "display_name": "Python 3 (ipykernel)",
   "language": "python",
   "name": "python3"
  },
  "language_info": {
   "codemirror_mode": {
    "name": "ipython",
    "version": 3
   },
   "file_extension": ".py",
   "mimetype": "text/x-python",
   "name": "python",
   "nbconvert_exporter": "python",
   "pygments_lexer": "ipython3",
   "version": "3.11.5"
  }
 },
 "nbformat": 4,
 "nbformat_minor": 5
}
