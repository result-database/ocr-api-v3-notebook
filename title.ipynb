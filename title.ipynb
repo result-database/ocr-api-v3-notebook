{
 "cells": [
  {
   "cell_type": "code",
   "execution_count": 145,
   "id": "839239f8-2af3-44ff-9e6c-5ff271b753d9",
   "metadata": {},
   "outputs": [],
   "source": [
    "from PIL import Image\n",
    "import requests\n",
    "import io\n",
    "import numpy as np\n",
    "import cv2\n",
    "import matplotlib.pyplot as plt\n",
    "import math\n",
    "import pyocr"
   ]
  },
  {
   "cell_type": "code",
   "execution_count": 65,
   "id": "d0ecb4f5-4621-484c-a5f6-c2c110eb9af9",
   "metadata": {},
   "outputs": [],
   "source": [
    "def openImg(url):\n",
    "    pil_img = Image.open(io.BytesIO(requests.get(url).content))\n",
    "    pil_img = pil_img.convert('RGB')\n",
    "    np_img = np.array(pil_img)\n",
    "    return np_img"
   ]
  },
  {
   "cell_type": "code",
   "execution_count": 318,
   "id": "cc4aaae8-8487-4e0d-8c8f-8d3330e15514",
   "metadata": {},
   "outputs": [],
   "source": [
    "img = openImg(\"https://raw.githubusercontent.com/result-database/ocr-api-v3-notebook/main/IMG_8958.png\")\n",
    "\n",
    "# left:0 top:0 right:1/2 bottom:6/7\n",
    "img = img[0 : img.shape[0] // 7, 0 : img.shape[1] // 2]"
   ]
  },
  {
   "cell_type": "code",
   "execution_count": 323,
   "id": "33a20599-a648-4a4a-a345-10a0d6e083d8",
   "metadata": {},
   "outputs": [],
   "source": [
    "border = 10\n",
    "img2 = img.copy()\n",
    "\n",
    "r, g, b = img2[:, :, 0], img2[:, :, 1], img2[:, :, 2]\n",
    "mask = np.logical_and.reduce((r >= 171 - border, r <= 171 + border, \n",
    "                              g >= 172 - border, g <= 172 + border, \n",
    "                              b >= 189 - border, b <= 189 + border))\n",
    "img2[mask] = [255, 255, 255]\n",
    "img2[np.logical_not(mask)] = [0, 0, 0]\n",
    "\n",
    "img2 = cv2.medianBlur(img2, 9)\n",
    "\n",
    "crop_range = Image.fromarray(img2).convert('RGB').getbbox()\n",
    "img = img[crop_range[1] : (crop_range[3]) // 1, crop_range[0] : crop_range[2]]"
   ]
  },
  {
   "cell_type": "code",
   "execution_count": 324,
   "id": "744ad587-0aba-42e3-8a7c-bfe1e8387d9f",
   "metadata": {
    "scrolled": true
   },
   "outputs": [
    {
     "data": {
      "image/png": "[encoded data removed]",
      "text/plain": [
       "<Figure size 640x480 with 1 Axes>"
      ]
     },
     "metadata": {},
     "output_type": "display_data"
    }
   ],
   "source": [
    "img3 = img.copy()\n",
    "img4 = img.copy()\n",
    "\n",
    "r, g, b = img4[:, :, 0], img4[:, :, 1], img4[:, :, 2]\n",
    "mask = np.logical_and.reduce((r >= 171 - border, r <= 171 + border, \n",
    "                              g >= 172 - border, g <= 172 + border, \n",
    "                              b >= 189 - border, b <= 189 + border))\n",
    "img4[mask] = [0, 0, 0]\n",
    "img4[np.logical_not(mask)] = [255, 255, 255]\n",
    "\n",
    "img4 = cv2.medianBlur(img4, 9)\n",
    "\n",
    "crop_range1 = Image.fromarray(img4).convert('RGB').getbbox()\n",
    "img4 = img4[crop_range1[1] : (crop_range1[3]) // 2, crop_range1[0] : crop_range1[2]]\n",
    "\n",
    "crop_range2 = Image.fromarray(img4).convert('RGB').getbbox()\n",
    "vertical_start = crop_range2[1] + (crop_range2[3] - crop_range2[1]) // 3\n",
    "vertical_end = crop_range2[1] + 2 * (crop_range2[3] - crop_range2[1]) // 3\n",
    "img4 = img4[vertical_start : vertical_end, crop_range2[0] : crop_range2[2]]\n",
    "\n",
    "img4 = 255 - img4\n",
    "\n",
    "crop_range3 = Image.fromarray(img4).convert('RGB').getbbox()\n",
    "img4 = img4[crop_range3[1] : crop_range3[3], crop_range3[0] : crop_range3[2]]\n",
    "\n",
    "img3 = img3[crop_range1[1]+vertical_start+crop_range3[1]-15 : crop_range1[1]+vertical_start+crop_range3[3]+15, crop_range1[0]+crop_range2[0]+crop_range3[0]-0 : crop_range1[0]+crop_range2[0]+crop_range3[2]+5]\n",
    "\n",
    "img5 = img3.copy()\n",
    "\n",
    "border = 80\n",
    "\n",
    "r, g, b = img5[:, :, 0], img5[:, :, 1], img5[:, :, 2]\n",
    "mask = np.logical_and.reduce((r >= 171 - border, r <= 171 + border, \n",
    "                              g >= 172 - border, g <= 172 + border, \n",
    "                              b >= 189 - border, b <= 189 + border))\n",
    "img5[mask] = [255, 255, 255]\n",
    "img5[np.logical_not(mask)] = [0, 0, 0]\n",
    "\n",
    "img5 = cv2.medianBlur(img5, 3)\n",
    "\n",
    "plt.imshow(img5)\n",
    "plt.axis('off')\n",
    "plt.show()\n"
   ]
  },
  {
   "cell_type": "code",
   "execution_count": 325,
   "id": "d465413e-63fd-4b90-9470-ee11a4958169",
   "metadata": {},
   "outputs": [
    {
     "name": "stdout",
     "output_type": "stream",
     "text": [
      "初音ミクの消失\n"
     ]
    }
   ],
   "source": [
    "tools = pyocr.get_available_tools()\n",
    "tool = tools[0]\n",
    "\n",
    "builder = pyocr.builders.TextBuilder(tesseract_layout=7)\n",
    "\n",
    "result = tool.image_to_string(Image.fromarray(img5), lang=\"jpn\", builder=builder)\n",
    "\n",
    "result = result.replace(' ', '')\n",
    "result = result.replace('\\n', '')\n",
    "\n",
    "print(result)"
   ]
  }
 ],
 "metadata": {
  "kernelspec": {
   "display_name": "Python 3 (ipykernel)",
   "language": "python",
   "name": "python3"
  },
  "language_info": {
   "codemirror_mode": {
    "name": "ipython",
    "version": 3
   },
   "file_extension": ".py",
   "mimetype": "text/x-python",
   "name": "python",
   "nbconvert_exporter": "python",
   "pygments_lexer": "ipython3",
   "version": "3.11.5"
  }
 },
 "nbformat": 4,
 "nbformat_minor": 5
}
